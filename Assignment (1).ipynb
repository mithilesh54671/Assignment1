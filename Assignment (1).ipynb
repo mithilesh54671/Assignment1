{
 "cells": [
  {
   "cell_type": "markdown",
   "id": "d8ffd0c5-a8b0-4ab0-baae-37c842125e5a",
   "metadata": {},
   "source": [
    "Q1. Create one variable containing following type of data:\n",
    "(4) = tuple"
   ]
  },
  {
   "cell_type": "code",
   "execution_count": 1,
   "id": "5232633e-3982-48a8-824d-ad8305d58aed",
   "metadata": {},
   "outputs": [],
   "source": [
    "s = 'pwskills', 'mithilesh', 'sudhanshu'"
   ]
  },
  {
   "cell_type": "code",
   "execution_count": 2,
   "id": "ced0db92-8590-4b56-ba51-44a574a550b4",
   "metadata": {},
   "outputs": [
    {
     "data": {
      "text/plain": [
       "tuple"
      ]
     },
     "execution_count": 2,
     "metadata": {},
     "output_type": "execute_result"
    }
   ],
   "source": [
    "type(s)"
   ]
  },
  {
   "cell_type": "markdown",
   "id": "48dd510e-91d0-4e1f-bc28-8d604d29cfdc",
   "metadata": {},
   "source": [
    "(1) = string"
   ]
  },
  {
   "cell_type": "code",
   "execution_count": 3,
   "id": "3c9fa0f4-d8f1-4d09-a76e-d10d1ebf2e29",
   "metadata": {},
   "outputs": [],
   "source": [
    "s1 = \"pwskills\""
   ]
  },
  {
   "cell_type": "code",
   "execution_count": 4,
   "id": "9e04afcf-3984-4323-a34e-b30fbd93d9d2",
   "metadata": {},
   "outputs": [
    {
     "data": {
      "text/plain": [
       "str"
      ]
     },
     "execution_count": 4,
     "metadata": {},
     "output_type": "execute_result"
    }
   ],
   "source": [
    "type(s1)"
   ]
  },
  {
   "cell_type": "markdown",
   "id": "bc9872fe-3df0-4e2a-b6e4-4c16385beed9",
   "metadata": {},
   "source": [
    "(2) = list"
   ]
  },
  {
   "cell_type": "code",
   "execution_count": 6,
   "id": "39381112-1941-40d9-a728-e6cbeecc9200",
   "metadata": {},
   "outputs": [],
   "source": [
    "l = [1,2,3,4,\"pwskills\",\"sudhanshu\"]"
   ]
  },
  {
   "cell_type": "code",
   "execution_count": 7,
   "id": "ac3d0c76-b173-4783-bc0a-7340e6b507aa",
   "metadata": {},
   "outputs": [
    {
     "data": {
      "text/plain": [
       "[1, 2, 3, 4, 'pwskills', 'sudhanshu']"
      ]
     },
     "execution_count": 7,
     "metadata": {},
     "output_type": "execute_result"
    }
   ],
   "source": [
    "l"
   ]
  },
  {
   "cell_type": "markdown",
   "id": "2bac1c36-6a59-407f-9436-4a0c321cd354",
   "metadata": {},
   "source": [
    "(3) = float"
   ]
  },
  {
   "cell_type": "code",
   "execution_count": 8,
   "id": "b6c50e91-9d25-4e13-9504-269b94683736",
   "metadata": {},
   "outputs": [],
   "source": [
    "f = 12.45"
   ]
  },
  {
   "cell_type": "code",
   "execution_count": 9,
   "id": "edb0261c-feff-4c39-822a-429af2b33490",
   "metadata": {},
   "outputs": [
    {
     "data": {
      "text/plain": [
       "float"
      ]
     },
     "execution_count": 9,
     "metadata": {},
     "output_type": "execute_result"
    }
   ],
   "source": [
    "type(f)"
   ]
  },
  {
   "cell_type": "markdown",
   "id": "9deec97c-b520-4811-a16d-b95b77a331f6",
   "metadata": {},
   "source": [
    "Q2. Given are some following variables containing data:"
   ]
  },
  {
   "cell_type": "markdown",
   "id": "b778eb09-0466-453e-8344-8b12fe084763",
   "metadata": {},
   "source": [
    "(i) var1 = ‘ ‘"
   ]
  },
  {
   "cell_type": "code",
   "execution_count": 10,
   "id": "35a9b341-5749-47d4-8c23-362db51c7487",
   "metadata": {},
   "outputs": [],
   "source": [
    "a = \"i am learning python\""
   ]
  },
  {
   "cell_type": "code",
   "execution_count": 11,
   "id": "80260596-eba9-4041-9472-0762d837a587",
   "metadata": {},
   "outputs": [
    {
     "name": "stdout",
     "output_type": "stream",
     "text": [
      "i am learning python\n"
     ]
    }
   ],
   "source": [
    "print(a)"
   ]
  },
  {
   "cell_type": "markdown",
   "id": "f0c05f09-efed-4d1b-a73e-14863c268d5f",
   "metadata": {},
   "source": [
    "(ii) var2 = ‘[ DS , ML , Python]’"
   ]
  },
  {
   "cell_type": "code",
   "execution_count": 12,
   "id": "b2d9c59c-2d80-4a18-9e34-c66a901662ea",
   "metadata": {},
   "outputs": [
    {
     "name": "stdout",
     "output_type": "stream",
     "text": [
      "['i am learning python', 'reading python', 'books']\n"
     ]
    }
   ],
   "source": [
    "a1 = [\"i am learning python\", \"reading python\", \"books\"]\n",
    "print(a1)"
   ]
  },
  {
   "cell_type": "markdown",
   "id": "0c446171-13b3-4ef1-903c-f7107bdd3c46",
   "metadata": {},
   "source": [
    "(iii) var3 = [ ‘DS’ , ’ML’ , ‘Python’ ]"
   ]
  },
  {
   "cell_type": "code",
   "execution_count": 13,
   "id": "3c0db360-8226-4a16-b94d-07c4d153f575",
   "metadata": {},
   "outputs": [
    {
     "name": "stdout",
     "output_type": "stream",
     "text": [
      "['pwskills', 'sudhanshu', 'mithilesh']\n"
     ]
    }
   ],
   "source": [
    "a3 = [\"pwskills\", \"sudhanshu\", \"mithilesh\"]\n",
    "print(a3)"
   ]
  },
  {
   "cell_type": "markdown",
   "id": "14a0653e-c1d7-4d84-a938-b4524938e245",
   "metadata": {},
   "source": [
    "(iv) var4 = 1."
   ]
  },
  {
   "cell_type": "code",
   "execution_count": 14,
   "id": "ac282764-58fe-4faa-97b2-a4382549d6f5",
   "metadata": {},
   "outputs": [
    {
     "name": "stdout",
     "output_type": "stream",
     "text": [
      "['skills', 'speed', 'high']\n"
     ]
    }
   ],
   "source": [
    "a4 = [\"skills\", \"speed\", \"high\"]\n",
    "print(a4)"
   ]
  },
  {
   "cell_type": "markdown",
   "id": "4cf28ec6-70de-4c4a-a518-c6f4ccdfb99a",
   "metadata": {},
   "source": [
    "Q3. Explain the use of the following operators using an example:\n",
    "(1) = /\n",
    "answer = Divide\n",
    "(2) = %\n",
    "answer = Modulus\n",
    "(3) = // \n",
    "answer = floor-divide\n",
    "(4) = **\n",
    "Exponent"
   ]
  },
  {
   "cell_type": "markdown",
   "id": "c61ad41d-bc1b-49d9-b8cc-a65839229294",
   "metadata": {},
   "source": [
    "Q4. Create a list of length 10 of your choice containing multiple types of data. Using for loop print the\n",
    "element and its data type."
   ]
  },
  {
   "cell_type": "code",
   "execution_count": 15,
   "id": "8ab7c246-3c1f-4e95-81e9-274ff4739dea",
   "metadata": {},
   "outputs": [
    {
     "name": "stdout",
     "output_type": "stream",
     "text": [
      "1\n",
      "2\n",
      "3\n",
      "4\n",
      "5\n",
      "pwskills\n",
      "mithilesh\n",
      "54.46\n",
      "(54+5j)\n",
      "True\n"
     ]
    }
   ],
   "source": [
    "l1 = [1,2,3,4,5,\"pwskills\", \"mithilesh\", 54.46, 54+5j, True]\n",
    "for i in range(len(l1)):\n",
    "    print(l1[i])"
   ]
  },
  {
   "cell_type": "code",
   "execution_count": 16,
   "id": "ec78ee85-b4a7-4f8d-afd8-f45d86a6fdb4",
   "metadata": {},
   "outputs": [
    {
     "name": "stdout",
     "output_type": "stream",
     "text": [
      "[1, 2, 3, 4, 5, 'pwskills', 'mithilesh', 54.46, (54+5j), True]\n"
     ]
    }
   ],
   "source": [
    "print(l1)"
   ]
  },
  {
   "cell_type": "markdown",
   "id": "8795d559-6766-427e-86a1-7a74837992d8",
   "metadata": {},
   "source": [
    "Q7. What do you understand about mutable and immutable data types? Give examples for both showing this property."
   ]
  },
  {
   "cell_type": "code",
   "execution_count": 17,
   "id": "55a0b36f-93d9-4c1f-b313-2913ea969f1b",
   "metadata": {},
   "outputs": [],
   "source": [
    "b = [2,3,4,5,6,\"mithi\", 3+5j, True, 34.54]"
   ]
  },
  {
   "cell_type": "code",
   "execution_count": 18,
   "id": "7d9a4c1a-a283-4dd8-bc70-0e3eb9448c02",
   "metadata": {},
   "outputs": [
    {
     "data": {
      "text/plain": [
       "list"
      ]
     },
     "execution_count": 18,
     "metadata": {},
     "output_type": "execute_result"
    }
   ],
   "source": [
    "type(b)"
   ]
  },
  {
   "cell_type": "code",
   "execution_count": 20,
   "id": "c408a797-6113-4843-a1d6-95e535c0eca5",
   "metadata": {},
   "outputs": [
    {
     "data": {
      "text/plain": [
       "2"
      ]
     },
     "execution_count": 20,
     "metadata": {},
     "output_type": "execute_result"
    }
   ],
   "source": [
    "b[0]"
   ]
  },
  {
   "cell_type": "code",
   "execution_count": 21,
   "id": "92d74b7e-6b3d-4ad5-951c-e9a56284cbf1",
   "metadata": {},
   "outputs": [
    {
     "data": {
      "text/plain": [
       "[2, 3, 4, 5, 6, 'mithi', (3+5j), True, 34.54]"
      ]
     },
     "execution_count": 21,
     "metadata": {},
     "output_type": "execute_result"
    }
   ],
   "source": [
    "b"
   ]
  },
  {
   "cell_type": "code",
   "execution_count": 22,
   "id": "691dfe3f-6b03-4ce5-94e8-cbc54680ba78",
   "metadata": {},
   "outputs": [],
   "source": [
    "b[1] = 300"
   ]
  },
  {
   "cell_type": "code",
   "execution_count": 23,
   "id": "c36280ec-8442-4503-a289-76042760aa71",
   "metadata": {},
   "outputs": [
    {
     "data": {
      "text/plain": [
       "[2, 300, 4, 5, 6, 'mithi', (3+5j), True, 34.54]"
      ]
     },
     "execution_count": 23,
     "metadata": {},
     "output_type": "execute_result"
    }
   ],
   "source": [
    "b"
   ]
  },
  {
   "cell_type": "code",
   "execution_count": 27,
   "id": "7d9da1f7-0943-42e2-a8d7-17db702e05cc",
   "metadata": {},
   "outputs": [],
   "source": [
    "b1 = \"mithilesh\""
   ]
  },
  {
   "cell_type": "code",
   "execution_count": 28,
   "id": "b786248f-968e-4c8c-af2c-7166c708e033",
   "metadata": {},
   "outputs": [
    {
     "ename": "TypeError",
     "evalue": "'str' object does not support item assignment",
     "output_type": "error",
     "traceback": [
      "\u001b[0;31m---------------------------------------------------------------------------\u001b[0m",
      "\u001b[0;31mTypeError\u001b[0m                                 Traceback (most recent call last)",
      "Cell \u001b[0;32mIn[28], line 1\u001b[0m\n\u001b[0;32m----> 1\u001b[0m \u001b[43mb1\u001b[49m\u001b[43m[\u001b[49m\u001b[38;5;241;43m1\u001b[39;49m\u001b[43m]\u001b[49m\u001b[38;5;241m=\u001b[39m \u001b[38;5;124m'\u001b[39m\u001b[38;5;124ma\u001b[39m\u001b[38;5;124m'\u001b[39m\n",
      "\u001b[0;31mTypeError\u001b[0m: 'str' object does not support item assignment"
     ]
    }
   ],
   "source": [
    "b1[1]= 'a'"
   ]
  },
  {
   "cell_type": "markdown",
   "id": "3825a787-f89a-4399-b710-66c0e592f235",
   "metadata": {},
   "source": [
    "Q5. Using a while loop, verify if the number A is purely divisible by number B and if so then how many times it can be divisible."
   ]
  },
  {
   "cell_type": "code",
   "execution_count": 5,
   "id": "5a512802-6557-40d0-b3a2-8528ff208d6d",
   "metadata": {},
   "outputs": [
    {
     "name": "stdout",
     "output_type": "stream",
     "text": [
      "2\n",
      "3\n",
      "4\n",
      "5\n",
      "6\n",
      "7\n",
      "8\n",
      "9\n",
      "10\n",
      "11\n",
      "12\n",
      "13\n",
      "14\n",
      "15\n",
      "16\n",
      "17\n",
      "18\n",
      "19\n",
      "20\n",
      "21\n",
      "22\n",
      "23\n",
      "24\n",
      "25\n",
      "26\n",
      "27\n",
      "28\n",
      "29\n",
      "30\n",
      "31\n",
      "32\n",
      "33\n",
      "34\n",
      "35\n",
      "36\n",
      "37\n",
      "38\n",
      "39\n",
      "this is my else\n"
     ]
    }
   ],
   "source": [
    "c = 40\n",
    "d = 2\n",
    "while d < c :\n",
    "    print(d)\n",
    "    d = d + 1\n",
    "else :\n",
    "    print(\"this is my else\")"
   ]
  },
  {
   "cell_type": "markdown",
   "id": "f88c850f-c428-493d-aec2-85db48661407",
   "metadata": {},
   "source": [
    "Q6. Create a list containing 25 int type data. Using for loop and if-else condition print if the element is divisible by 3 or not."
   ]
  },
  {
   "cell_type": "code",
   "execution_count": 6,
   "id": "e3160072-3d47-48cc-af47-82a19583010b",
   "metadata": {},
   "outputs": [
    {
     "name": "stdin",
     "output_type": "stream",
     "text": [
      " 25\n"
     ]
    },
    {
     "name": "stdout",
     "output_type": "stream",
     "text": [
      "yes b s greater than 25\n"
     ]
    }
   ],
   "source": [
    "b = int(input())\n",
    "if b>3 :\n",
    "    print(\"yes b s greater than 25\")\n",
    "else :\n",
    "    print(\"this is my defalut\")"
   ]
  },
  {
   "cell_type": "code",
   "execution_count": null,
   "id": "cfa885ea-15c0-4290-9cfe-befa9e2c3c12",
   "metadata": {},
   "outputs": [],
   "source": []
  }
 ],
 "metadata": {
  "kernelspec": {
   "display_name": "Python 3 (ipykernel)",
   "language": "python",
   "name": "python3"
  },
  "language_info": {
   "codemirror_mode": {
    "name": "ipython",
    "version": 3
   },
   "file_extension": ".py",
   "mimetype": "text/x-python",
   "name": "python",
   "nbconvert_exporter": "python",
   "pygments_lexer": "ipython3",
   "version": "3.10.8"
  }
 },
 "nbformat": 4,
 "nbformat_minor": 5
}
